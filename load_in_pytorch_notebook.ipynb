{
 "cells": [
  {
   "cell_type": "markdown",
   "id": "e0229849-d045-4432-a5af-1212ea5f856c",
   "metadata": {},
   "source": [
    "## Notebook version of ``load_in_pytorch.py``\n",
    "\n",
    "This notebook is a copy of ``load_in_pytorch.py``, created to check for jupyter issues"
   ]
  },
  {
   "cell_type": "markdown",
   "id": "0b43303e-a76c-496a-a0ba-e5317c8f7bd5",
   "metadata": {},
   "source": [
    "If you see this error:\n",
    "\n",
    "    IProgress not found. Please update jupyter and ipywidgets.\n",
    "    See https://ipywidgets.readthedocs.io/en/stable/user_install.html\n",
    "    \n",
    "Please follow those instructions. The command you want is probably\n",
    "\n",
    "    pip install ipywidgets\n",
    "\n",
    "Followed by restarting Jupyter (or at least the kernel)."
   ]
  },
  {
   "cell_type": "code",
   "execution_count": 24,
   "id": "db568a08-dfcb-444d-99e2-16cc95d1bb53",
   "metadata": {},
   "outputs": [],
   "source": [
    "import pandas as pd\n",
    "\n",
    "from galaxy_mnist import GalaxyMNIST\n"
   ]
  },
  {
   "cell_type": "code",
   "execution_count": 25,
   "id": "b0f44c46-130f-444d-b7b8-eea792eda156",
   "metadata": {},
   "outputs": [
    {
     "name": "stdout",
     "output_type": "stream",
     "text": [
      "Downloading http://www.jb.man.ac.uk/research/MiraBest/MiraBest_F/train_dataset.hdf5.gz\n",
      "Downloading https://www.jb.man.ac.uk/research/MiraBest/MiraBest_F/train_dataset.hdf5.gz to /home/walml/repos/galaxy_mnist/download_root/GalaxyMNIST/raw/train_dataset.hdf5.gz\n"
     ]
    },
    {
     "data": {
      "application/vnd.jupyter.widget-view+json": {
       "model_id": "b59cdd1b0dfb47b8812532c5a75dd233",
       "version_major": 2,
       "version_minor": 0
      },
      "text/plain": [
       "  0%|          | 0/68681710 [00:00<?, ?it/s]"
      ]
     },
     "metadata": {},
     "output_type": "display_data"
    },
    {
     "name": "stdout",
     "output_type": "stream",
     "text": [
      "Extracting /home/walml/repos/galaxy_mnist/download_root/GalaxyMNIST/raw/train_dataset.hdf5.gz to /home/walml/repos/galaxy_mnist/download_root/GalaxyMNIST/raw\n",
      "\n",
      "Downloading http://www.jb.man.ac.uk/research/MiraBest/MiraBest_F/test_dataset.hdf5.gz\n",
      "Downloading https://www.jb.man.ac.uk/research/MiraBest/MiraBest_F/test_dataset.hdf5.gz to /home/walml/repos/galaxy_mnist/download_root/GalaxyMNIST/raw/test_dataset.hdf5.gz\n"
     ]
    },
    {
     "data": {
      "application/vnd.jupyter.widget-view+json": {
       "model_id": "207d3a631fa3451884d8fba2b25db379",
       "version_major": 2,
       "version_minor": 0
      },
      "text/plain": [
       "  0%|          | 0/17251325 [00:00<?, ?it/s]"
      ]
     },
     "metadata": {},
     "output_type": "display_data"
    },
    {
     "name": "stdout",
     "output_type": "stream",
     "text": [
      "Extracting /home/walml/repos/galaxy_mnist/download_root/GalaxyMNIST/raw/test_dataset.hdf5.gz to /home/walml/repos/galaxy_mnist/download_root/GalaxyMNIST/raw\n",
      "\n"
     ]
    }
   ],
   "source": [
    "\n",
    "dataset = GalaxyMNIST(\n",
    "    root='/home/walml/repos/galaxy_mnist/download_root',\n",
    "    download=True,\n",
    "    train=True  # by default, or False for canonical test set\n",
    ")\n"
   ]
  },
  {
   "cell_type": "code",
   "execution_count": 26,
   "id": "aca64980-83f9-4ed4-a451-4ac5dfcd9154",
   "metadata": {},
   "outputs": [
    {
     "name": "stdout",
     "output_type": "stream",
     "text": [
      "torch.Size([8000, 3, 64, 64]) torch.uint8\n",
      "torch.Size([8000]) torch.int64\n"
     ]
    }
   ],
   "source": [
    "\n",
    "# this is always the canonical 80/20 train/test split\n",
    "images = dataset.data\n",
    "labels = dataset.targets\n",
    "\n",
    "\n",
    "print(images.shape, images.dtype)\n",
    "print(labels.shape, labels.dtype)\n",
    "\n"
   ]
  },
  {
   "cell_type": "code",
   "execution_count": 27,
   "id": "1ce45781-5d95-4e54-b584-c5a2a6df5d99",
   "metadata": {},
   "outputs": [],
   "source": [
    "# however, you can set your own split size and stratification if you like\n",
    "(custom_train_images, custom_train_labels), (custom_test_images, custom_test_labels) = dataset.load_custom_data(test_size=0.8, stratify=True) "
   ]
  },
  {
   "cell_type": "code",
   "execution_count": 28,
   "id": "2b3e7246-03a5-499f-8b09-2c16dea98553",
   "metadata": {},
   "outputs": [
    {
     "name": "stdout",
     "output_type": "stream",
     "text": [
      "torch.Size([2000, 3, 64, 64]) torch.Size([8000, 3, 64, 64])\n",
      "1    500\n",
      "2    500\n",
      "0    500\n",
      "3    500\n",
      "dtype: int64 0    2000\n",
      "3    2000\n",
      "2    2000\n",
      "1    2000\n",
      "dtype: int64\n"
     ]
    }
   ],
   "source": [
    "print(custom_train_images.shape, custom_test_images.shape)\n",
    "print(pd.value_counts(custom_train_labels.numpy()), pd.value_counts(custom_test_labels.numpy()))\n"
   ]
  },
  {
   "cell_type": "code",
   "execution_count": 29,
   "id": "a57dbf47-7ced-4124-966d-ef78082a834a",
   "metadata": {},
   "outputs": [
    {
     "data": {
      "text/plain": [
       "1"
      ]
     },
     "execution_count": 29,
     "metadata": {},
     "output_type": "execute_result"
    }
   ],
   "source": [
    "\n",
    "# The values of dataset.data, dataset.targets, and hence __getitem__,\n",
    "# will be from whichever loading method you last called: either __init__ or load_custom_data\n",
    "train_image, train_label = dataset[0]\n",
    "train_label"
   ]
  },
  {
   "cell_type": "code",
   "execution_count": 30,
   "id": "f1bbd9ae-b6fc-4cca-91cd-441a4518d1a1",
   "metadata": {},
   "outputs": [
    {
     "data": {
      "image/png": "[encoded data removed]",
      "text/plain": [
       "<PIL.Image.Image image mode=RGB size=64x64 at 0x7FB44292BC90>"
      ]
     },
     "execution_count": 30,
     "metadata": {},
     "output_type": "execute_result"
    }
   ],
   "source": [
    "train_image"
   ]
  },
  {
   "cell_type": "code",
   "execution_count": 31,
   "id": "9e63e14e-0eed-4174-81dc-e41ccebd031b",
   "metadata": {},
   "outputs": [],
   "source": [
    "\n",
    "dataset.train = False\n",
    "# need to call again to update self.data, self.targets\n",
    "_= dataset.load_custom_data(test_size=0.8, stratify=True)"
   ]
  },
  {
   "cell_type": "code",
   "execution_count": 34,
   "id": "bcf9accd-f18a-4f5d-80e5-e31b875e8597",
   "metadata": {},
   "outputs": [
    {
     "data": {
      "text/plain": [
       "0"
      ]
     },
     "execution_count": 34,
     "metadata": {},
     "output_type": "execute_result"
    }
   ],
   "source": [
    "# now __getitem__ returns test values\n",
    "test_image, test_label = dataset[0]\n",
    "test_label"
   ]
  },
  {
   "cell_type": "code",
   "execution_count": 33,
   "id": "ebdb4690-be6e-49d4-b8dc-72d3aae0e6a8",
   "metadata": {},
   "outputs": [
    {
     "data": {
      "image/png": "[encoded data removed]",
      "text/plain": [
       "<PIL.Image.Image image mode=RGB size=64x64 at 0x7FB44292B6D0>"
      ]
     },
     "execution_count": 33,
     "metadata": {},
     "output_type": "execute_result"
    }
   ],
   "source": [
    "test_image"
   ]
  }
 ],
 "metadata": {
  "kernelspec": {
   "display_name": "Python 3 (ipykernel)",
   "language": "python",
   "name": "python3"
  },
  "language_info": {
   "codemirror_mode": {
    "name": "ipython",
    "version": 3
   },
   "file_extension": ".py",
   "mimetype": "text/x-python",
   "name": "python",
   "nbconvert_exporter": "python",
   "pygments_lexer": "ipython3",
   "version": "3.7.11"
  }
 },
 "nbformat": 4,
 "nbformat_minor": 5
}
